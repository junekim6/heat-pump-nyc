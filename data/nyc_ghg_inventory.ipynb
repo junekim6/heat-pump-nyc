{
 "cells": [
  {
   "cell_type": "code",
   "execution_count": 2,
   "id": "7d235a6e",
   "metadata": {},
   "outputs": [],
   "source": [
    "%load_ext rpy2.ipython\n",
    "%load_ext autoreload\n",
    "%autoreload 2\n",
    "\n",
    "%matplotlib inline  \n",
    "from matplotlib import rcParams\n",
    "rcParams['figure.figsize'] = (16, 100)\n",
    "\n",
    "import warnings\n",
    "from rpy2.rinterface import RRuntimeWarning\n",
    "warnings.filterwarnings(\"ignore\") # Ignore all warnings\n",
    "# warnings.filterwarnings(\"ignore\", category=RRuntimeWarning) # Show some warnings\n",
    "\n",
    "import pandas as pd\n",
    "import numpy as np\n",
    "import matplotlib.pyplot as plt\n",
    "from IPython.display import display, HTML"
   ]
  },
  {
   "cell_type": "code",
   "execution_count": 3,
   "id": "72b8c4d2",
   "metadata": {},
   "outputs": [
    {
     "data": {
      "application/javascript": [
       "// Disable auto-scrolling\n",
       "IPython.OutputArea.prototype._should_scroll = function(lines) {\n",
       "    return false;\n",
       "}\n"
      ],
      "text/plain": [
       "<IPython.core.display.Javascript object>"
      ]
     },
     "metadata": {},
     "output_type": "display_data"
    }
   ],
   "source": [
    "%%javascript\n",
    "// Disable auto-scrolling\n",
    "IPython.OutputArea.prototype._should_scroll = function(lines) {\n",
    "    return false;\n",
    "}"
   ]
  },
  {
   "cell_type": "code",
   "execution_count": 4,
   "id": "d9dd0fde",
   "metadata": {
    "scrolled": true
   },
   "outputs": [
    {
     "name": "stdout",
     "output_type": "stream",
     "text": [
      "NULL\n"
     ]
    }
   ],
   "source": [
    "%%R\n",
    "\n",
    "# install.packages('geojsonio')\n",
    "# install.packages('RColorBrewer')\n",
    "# install.packages('rgdal')"
   ]
  },
  {
   "cell_type": "code",
   "execution_count": 5,
   "id": "143956e3",
   "metadata": {},
   "outputs": [
    {
     "name": "stderr",
     "output_type": "stream",
     "text": [
      "R[write to console]: Loading required package: tidyverse\n",
      "\n"
     ]
    },
    {
     "name": "stdout",
     "output_type": "stream",
     "text": [
      "── Attaching packages ─────────────────────────────────────── tidyverse 1.3.2 ──\n",
      "✔ ggplot2 3.4.0      ✔ purrr   0.3.4 \n",
      "✔ tibble  3.1.8      ✔ dplyr   1.0.10\n",
      "✔ tidyr   1.2.0      ✔ stringr 1.4.1 \n",
      "✔ readr   2.1.3      ✔ forcats 0.5.2 \n",
      "── Conflicts ────────────────────────────────────────── tidyverse_conflicts() ──\n",
      "✖ dplyr::filter() masks stats::filter()\n",
      "✖ dplyr::lag()    masks stats::lag()\n"
     ]
    },
    {
     "name": "stderr",
     "output_type": "stream",
     "text": [
      "R[write to console]: Registered S3 method overwritten by 'geojsonsf':\n",
      "  method        from   \n",
      "  print.geojson geojson\n",
      "\n",
      "R[write to console]: \n",
      "Attaching package: ‘geojsonio’\n",
      "\n",
      "\n",
      "R[write to console]: The following object is masked from ‘package:base’:\n",
      "\n",
      "    pretty\n",
      "\n",
      "\n",
      "R[write to console]: Loading required package: sp\n",
      "\n",
      "R[write to console]: Please note that rgdal will be retired during 2023,\n",
      "plan transition to sf/stars/terra functions using GDAL and PROJ\n",
      "at your earliest convenience.\n",
      "See https://r-spatial.org/r/2022/04/12/evolution.html and https://github.com/r-spatial/evolution\n",
      "rgdal: version: 1.6-4, (SVN revision 1196)\n",
      "Geospatial Data Abstraction Library extensions to R successfully loaded\n",
      "Loaded GDAL runtime: GDAL 3.4.2, released 2022/03/08\n",
      "Path to GDAL shared files: /Library/Frameworks/R.framework/Versions/4.2/Resources/library/rgdal/gdal\n",
      "GDAL binary built with GEOS: FALSE \n",
      "Loaded PROJ runtime: Rel. 8.2.1, January 1st, 2022, [PJ_VERSION: 821]\n",
      "Path to PROJ shared files: /Library/Frameworks/R.framework/Versions/4.2/Resources/library/rgdal/proj\n",
      "PROJ CDN enabled: FALSE\n",
      "Linking to sp version:1.5-1\n",
      "To mute warnings of possible GDAL/OSR exportToProj4() degradation,\n",
      "use options(\"rgdal_show_exportToProj4_warnings\"=\"none\") before loading sp or rgdal.\n",
      "\n"
     ]
    }
   ],
   "source": [
    "%%R\n",
    "\n",
    "require('tidyverse')\n",
    "library('ggbeeswarm')\n",
    "library(geojsonio)\n",
    "library(RColorBrewer)\n",
    "library(rgdal)"
   ]
  },
  {
   "cell_type": "code",
   "execution_count": 6,
   "id": "e9594898",
   "metadata": {},
   "outputs": [],
   "source": [
    "import pandas as pd"
   ]
  },
  {
   "cell_type": "markdown",
   "id": "302f4782",
   "metadata": {},
   "source": [
    "## New York City GHG inventory"
   ]
  },
  {
   "cell_type": "code",
   "execution_count": 33,
   "id": "7cb45083",
   "metadata": {},
   "outputs": [],
   "source": [
    "# This data is from New York City GHG Inventory.\n",
    "# Link: \n",
    "\n",
    "nyc_ghg_df = pd.read_csv(\"NYC_GHG_Inventory.csv\")"
   ]
  },
  {
   "cell_type": "code",
   "execution_count": 34,
   "id": "4644a37f",
   "metadata": {},
   "outputs": [],
   "source": [
    "nyc_ghg_df.drop(nyc_ghg_df.columns[[6, 7, 8, 9]], axis=1, inplace=True)"
   ]
  },
  {
   "cell_type": "code",
   "execution_count": 35,
   "id": "247265f2",
   "metadata": {},
   "outputs": [],
   "source": [
    "# Rename columns\n",
    "\n",
    "nyc_ghg_df.columns = ['sector', 'category', 'source', 'unit', 'consumed', 'tCo2e']"
   ]
  },
  {
   "cell_type": "code",
   "execution_count": 36,
   "id": "66500ed7",
   "metadata": {},
   "outputs": [],
   "source": [
    "# Drop rows without values\n",
    "\n",
    "nyc_ghg_df.drop([0, 1, 39], axis=0, inplace=True)"
   ]
  },
  {
   "cell_type": "code",
   "execution_count": 37,
   "id": "8b31ba2c",
   "metadata": {},
   "outputs": [
    {
     "data": {
      "text/html": [
       "<div>\n",
       "<style scoped>\n",
       "    .dataframe tbody tr th:only-of-type {\n",
       "        vertical-align: middle;\n",
       "    }\n",
       "\n",
       "    .dataframe tbody tr th {\n",
       "        vertical-align: top;\n",
       "    }\n",
       "\n",
       "    .dataframe thead th {\n",
       "        text-align: right;\n",
       "    }\n",
       "</style>\n",
       "<table border=\"1\" class=\"dataframe\">\n",
       "  <thead>\n",
       "    <tr style=\"text-align: right;\">\n",
       "      <th></th>\n",
       "      <th>sector</th>\n",
       "      <th>category</th>\n",
       "      <th>source</th>\n",
       "      <th>unit</th>\n",
       "      <th>consumed</th>\n",
       "      <th>tCo2e</th>\n",
       "    </tr>\n",
       "  </thead>\n",
       "  <tbody>\n",
       "    <tr>\n",
       "      <th>29</th>\n",
       "      <td>Transportation</td>\n",
       "      <td>On-Road</td>\n",
       "      <td>Heavy duty trucks</td>\n",
       "      <td>VMT</td>\n",
       "      <td>539318720.8</td>\n",
       "      <td>1224872.0</td>\n",
       "    </tr>\n",
       "    <tr>\n",
       "      <th>30</th>\n",
       "      <td>Transportation</td>\n",
       "      <td>On-Road</td>\n",
       "      <td>Medium duty trucks</td>\n",
       "      <td>VMT</td>\n",
       "      <td>373618549.9</td>\n",
       "      <td>296682.0</td>\n",
       "    </tr>\n",
       "    <tr>\n",
       "      <th>31</th>\n",
       "      <td>Transportation</td>\n",
       "      <td>On-Road</td>\n",
       "      <td>Passenger cars</td>\n",
       "      <td>VMT</td>\n",
       "      <td>15683375517.0</td>\n",
       "      <td>9689447.0</td>\n",
       "    </tr>\n",
       "    <tr>\n",
       "      <th>32</th>\n",
       "      <td>Transportation</td>\n",
       "      <td>On-Road</td>\n",
       "      <td>SWCV</td>\n",
       "      <td>VMT</td>\n",
       "      <td>40651681.0</td>\n",
       "      <td>68528.0</td>\n",
       "    </tr>\n",
       "    <tr>\n",
       "      <th>33</th>\n",
       "      <td>Transportation</td>\n",
       "      <td>Railways</td>\n",
       "      <td>Diesel</td>\n",
       "      <td>gallon</td>\n",
       "      <td>1291342.37</td>\n",
       "      <td>13344.24134</td>\n",
       "    </tr>\n",
       "    <tr>\n",
       "      <th>34</th>\n",
       "      <td>Transportation</td>\n",
       "      <td>Railways</td>\n",
       "      <td>Electricity</td>\n",
       "      <td>kWh</td>\n",
       "      <td>1851196247.0</td>\n",
       "      <td>592807.8336</td>\n",
       "    </tr>\n",
       "    <tr>\n",
       "      <th>35</th>\n",
       "      <td>Waste</td>\n",
       "      <td>Biological treatment</td>\n",
       "      <td>CH4 and N2O from composting</td>\n",
       "      <td>MT</td>\n",
       "      <td>44652.295999999995</td>\n",
       "      <td>8550.914684000001</td>\n",
       "    </tr>\n",
       "    <tr>\n",
       "      <th>36</th>\n",
       "      <td>Waste</td>\n",
       "      <td>Landfills</td>\n",
       "      <td>CH4</td>\n",
       "      <td>MT</td>\n",
       "      <td>6423022.0</td>\n",
       "      <td>1960325.0</td>\n",
       "    </tr>\n",
       "    <tr>\n",
       "      <th>37</th>\n",
       "      <td>Waste</td>\n",
       "      <td>Wastewater treatment</td>\n",
       "      <td>CH4</td>\n",
       "      <td>MT</td>\n",
       "      <td>2645.062226</td>\n",
       "      <td>74061.74232</td>\n",
       "    </tr>\n",
       "    <tr>\n",
       "      <th>38</th>\n",
       "      <td>Waste</td>\n",
       "      <td>Wastewater treatment</td>\n",
       "      <td>N2O</td>\n",
       "      <td>MT</td>\n",
       "      <td>213.2144518</td>\n",
       "      <td>56501.82973</td>\n",
       "    </tr>\n",
       "  </tbody>\n",
       "</table>\n",
       "</div>"
      ],
      "text/plain": [
       "            sector              category                       source    unit  \\\n",
       "29  Transportation               On-Road            Heavy duty trucks    VMT    \n",
       "30  Transportation               On-Road          Medium duty trucks     VMT    \n",
       "31  Transportation               On-Road               Passenger cars     VMT   \n",
       "32  Transportation               On-Road                         SWCV    VMT    \n",
       "33  Transportation              Railways                       Diesel  gallon   \n",
       "34  Transportation              Railways                  Electricity     kWh   \n",
       "35           Waste  Biological treatment  CH4 and N2O from composting      MT   \n",
       "36           Waste             Landfills                          CH4      MT   \n",
       "37           Waste  Wastewater treatment                          CH4      MT   \n",
       "38           Waste  Wastewater treatment                          N2O      MT   \n",
       "\n",
       "              consumed              tCo2e  \n",
       "29         539318720.8          1224872.0  \n",
       "30         373618549.9           296682.0  \n",
       "31       15683375517.0          9689447.0  \n",
       "32          40651681.0            68528.0  \n",
       "33          1291342.37        13344.24134  \n",
       "34        1851196247.0        592807.8336  \n",
       "35  44652.295999999995  8550.914684000001  \n",
       "36           6423022.0          1960325.0  \n",
       "37         2645.062226        74061.74232  \n",
       "38         213.2144518        56501.82973  "
      ]
     },
     "execution_count": 37,
     "metadata": {},
     "output_type": "execute_result"
    }
   ],
   "source": [
    "nyc_ghg_df.tail(10)"
   ]
  },
  {
   "cell_type": "code",
   "execution_count": 38,
   "id": "7cce4df0",
   "metadata": {},
   "outputs": [],
   "source": [
    "nyc_ghg_df.tCo2e = nyc_ghg_df.tCo2e.astype(float)"
   ]
  },
  {
   "cell_type": "code",
   "execution_count": 39,
   "id": "228e1846",
   "metadata": {},
   "outputs": [],
   "source": [
    "co2_by_category_df = pd.DataFrame(nyc_ghg_df.groupby(['sector', 'category'])['tCo2e'].sum().reset_index())"
   ]
  },
  {
   "cell_type": "code",
   "execution_count": 40,
   "id": "006cd046",
   "metadata": {},
   "outputs": [
    {
     "name": "stdout",
     "output_type": "stream",
     "text": [
      "<class 'pandas.core.frame.DataFrame'>\n",
      "RangeIndex: 11 entries, 0 to 10\n",
      "Data columns (total 3 columns):\n",
      " #   Column    Non-Null Count  Dtype  \n",
      "---  ------    --------------  -----  \n",
      " 0   sector    11 non-null     object \n",
      " 1   category  11 non-null     object \n",
      " 2   tCo2e     11 non-null     float64\n",
      "dtypes: float64(1), object(2)\n",
      "memory usage: 392.0+ bytes\n"
     ]
    }
   ],
   "source": [
    "co2_by_category_df.info()"
   ]
  },
  {
   "cell_type": "code",
   "execution_count": 98,
   "id": "c7e6d87d",
   "metadata": {},
   "outputs": [],
   "source": [
    "# Calculate share of each sector\n",
    "\n",
    "by_sector = pd.DataFrame(co2_by_category_df.groupby('sector')['tCo2e'].sum())\n",
    "by_sector.reset_index(inplace=True)\n",
    "total_ghg = by_sector.tCo2e.sum()"
   ]
  },
  {
   "cell_type": "code",
   "execution_count": 103,
   "id": "a2dfdcc3",
   "metadata": {},
   "outputs": [],
   "source": [
    "by_sector['emission_pct'] = by_sector.tCo2e/total_ghg*100"
   ]
  },
  {
   "cell_type": "code",
   "execution_count": 104,
   "id": "146c4e7d",
   "metadata": {},
   "outputs": [
    {
     "data": {
      "text/html": [
       "<div>\n",
       "<style scoped>\n",
       "    .dataframe tbody tr th:only-of-type {\n",
       "        vertical-align: middle;\n",
       "    }\n",
       "\n",
       "    .dataframe tbody tr th {\n",
       "        vertical-align: top;\n",
       "    }\n",
       "\n",
       "    .dataframe thead th {\n",
       "        text-align: right;\n",
       "    }\n",
       "</style>\n",
       "<table border=\"1\" class=\"dataframe\">\n",
       "  <thead>\n",
       "    <tr style=\"text-align: right;\">\n",
       "      <th></th>\n",
       "      <th>sector</th>\n",
       "      <th>tCo2e</th>\n",
       "      <th>emission_pct</th>\n",
       "    </tr>\n",
       "  </thead>\n",
       "  <tbody>\n",
       "    <tr>\n",
       "      <th>0</th>\n",
       "      <td>Stationary Energy</td>\n",
       "      <td>3.402440e+07</td>\n",
       "      <td>70.234453</td>\n",
       "    </tr>\n",
       "    <tr>\n",
       "      <th>1</th>\n",
       "      <td>Transportation</td>\n",
       "      <td>1.232019e+07</td>\n",
       "      <td>25.431805</td>\n",
       "    </tr>\n",
       "    <tr>\n",
       "      <th>2</th>\n",
       "      <td>Waste</td>\n",
       "      <td>2.099439e+06</td>\n",
       "      <td>4.333742</td>\n",
       "    </tr>\n",
       "  </tbody>\n",
       "</table>\n",
       "</div>"
      ],
      "text/plain": [
       "              sector         tCo2e  emission_pct\n",
       "0  Stationary Energy  3.402440e+07     70.234453\n",
       "1     Transportation  1.232019e+07     25.431805\n",
       "2              Waste  2.099439e+06      4.333742"
      ]
     },
     "execution_count": 104,
     "metadata": {},
     "output_type": "execute_result"
    }
   ],
   "source": [
    "by_sector"
   ]
  },
  {
   "cell_type": "code",
   "execution_count": 42,
   "id": "a274ca6a",
   "metadata": {},
   "outputs": [],
   "source": [
    "co2_by_category_df.to_csv('category_co2.csv', index=False)"
   ]
  },
  {
   "cell_type": "code",
   "execution_count": 21,
   "id": "bd147872",
   "metadata": {
    "scrolled": true
   },
   "outputs": [],
   "source": [
    "%%R \n",
    "\n",
    "# install.packages(\"treemapify\")\n",
    "# install.packages(\"plotly\")\n",
    "library(treemapify)\n",
    "library(ggplot2)\n",
    "library(plotly)"
   ]
  },
  {
   "cell_type": "code",
   "execution_count": 43,
   "id": "0ff25afa",
   "metadata": {},
   "outputs": [
    {
     "name": "stdout",
     "output_type": "stream",
     "text": [
      "              sector                       category        tCo2e\n",
      "1  Stationary Energy   Commercial and Institutional 13485292.082\n",
      "2  Stationary Energy                       Fugitive   486842.312\n",
      "3  Stationary Energy Manufacturing and Construction  4001339.954\n",
      "4  Stationary Energy                    Residential 16050928.711\n",
      "5     Transportation                       Aviation     1597.586\n",
      "6     Transportation              Marine Navigation    53463.162\n",
      "7     Transportation                        On-Road 11658979.491\n",
      "8     Transportation                       Railways   606152.075\n",
      "9              Waste           Biological treatment     8550.915\n",
      "10             Waste                      Landfills  1960325.000\n",
      "11             Waste           Wastewater treatment   130563.572\n"
     ]
    }
   ],
   "source": [
    "%%R\n",
    "\n",
    "df <- read.csv('category_co2.csv')\n",
    "\n",
    "df"
   ]
  },
  {
   "cell_type": "code",
   "execution_count": 60,
   "id": "090a85fd",
   "metadata": {
    "scrolled": false
   },
   "outputs": [],
   "source": [
    "%%R -w 800 -h 500\n",
    "\n",
    "# install.packages('treemap')\n",
    "library(treemap)"
   ]
  },
  {
   "cell_type": "code",
   "execution_count": 66,
   "id": "ddd7e2d5",
   "metadata": {},
   "outputs": [
    {
     "data": {
      "image/png": "[encoded data removed]"
     },
     "metadata": {},
     "output_type": "display_data"
    }
   ],
   "source": [
    "%%R\n",
    "\n",
    "treemap(df, index=c(\"category\",\"sector\"), vSize=\"tCo2e\", type=\"index\",\n",
    " \n",
    "#     fontsize.labels=c(15,12),                # size of labels. Give the size per level of aggregation: size for group, size for subgroup, sub-subgroups...\n",
    "#     fontcolor.labels=c(\"white\",\"orange\"),    # Color of labels\n",
    "#     fontface.labels=c(2,1),                  # Font of labels: 1,2,3,4 for normal, bold, italic, bold-italic...\n",
    "#     bg.labels=c(\"transparent\"),              # Background color of labels\n",
    "#     align.labels=list(\n",
    "#         c(\"center\", \"center\"), \n",
    "#         c(\"right\", \"bottom\")\n",
    "#         ),                                   # Where to place labels in the rectangle?\n",
    "#     overlap.labels=0.5,                      # number between 0 and 1 that determines the tolerance of the overlap between labels. 0 means that labels of lower levels are not printed if higher level labels overlap, 1  means that labels are always printed. In-between values, for instance the default value .5, means that lower level labels are printed if other labels do not overlap with more than .5  times their area size.\n",
    "#     inflate.labels=F,                        # If true, labels are bigger when rectangle is bigger.\n",
    " \n",
    ")"
   ]
  },
  {
   "cell_type": "code",
   "execution_count": 79,
   "id": "7524b556",
   "metadata": {},
   "outputs": [
    {
     "data": {
      "image/png": "[encoded data removed]"
     },
     "metadata": {},
     "output_type": "display_data"
    }
   ],
   "source": [
    "%%R -w 800 -h 500\n",
    "\n",
    "ggplot(df) +\n",
    "    aes(area=tCo2e, fill=category, subgroup=sector, label=category) +\n",
    "    geom_treemap() +\n",
    "    geom_treemap_subgroup_border(color='black', size=9) +\n",
    "    geom_treemap_subgroup_text(place = \"centre\", grow = T, alpha = 0.3, colour =\n",
    "                     \"white\", min.size = 0) +\n",
    "    geom_treemap_text(colour = \"white\", place = \"topleft\", reflow = T)"
   ]
  },
  {
   "cell_type": "code",
   "execution_count": null,
   "id": "c6274439",
   "metadata": {},
   "outputs": [],
   "source": [
    "ggsave(\"nyc_ghg.pdf\")"
   ]
  },
  {
   "cell_type": "code",
   "execution_count": null,
   "id": "8eb38266",
   "metadata": {},
   "outputs": [],
   "source": []
  }
 ],
 "metadata": {
  "kernelspec": {
   "display_name": "Python 3 (ipykernel)",
   "language": "python",
   "name": "python3"
  },
  "language_info": {
   "codemirror_mode": {
    "name": "ipython",
    "version": 3
   },
   "file_extension": ".py",
   "mimetype": "text/x-python",
   "name": "python",
   "nbconvert_exporter": "python",
   "pygments_lexer": "ipython3",
   "version": "3.11.0rc2"
  },
  "vscode": {
   "interpreter": {
    "hash": "7e1998ff7f8aa20ada591c520b972326324e5ea05489af9e422744c7c09f6dad"
   }
  }
 },
 "nbformat": 4,
 "nbformat_minor": 5
}
